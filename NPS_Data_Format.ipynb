{
 "cells": [
  {
   "cell_type": "code",
   "execution_count": 17,
   "metadata": {},
   "outputs": [],
   "source": [
    "import pandas as pd\n",
    "import matplotlib.pyplot as plt\n",
    "from matplotlib.dates import DateFormatter, MinuteLocator, date2num\n",
    "import datetime\n",
    "file = \"Data//831C_11471-20211117 144645-21111702.LD0-usb.xlsx\" # location of xlsx file\n",
    "NPS1raw = pd.read_excel(file,sheet_name=\"Time History\",index_col=\"Date\") # reading excel file into pandas for sheet 'Time History' with index as 'Date column\n",
    "NPS1raw = NPS1raw.fillna(0) # filling NaN data with zeros\n",
    "NPS1raw = NPS1raw[NPS1raw[\"Record Type\"]==0]\n",
    "NPS1raw = NPS1raw.drop([\"OVLD\",\"OBA OVLD\"],axis=1)\n",
    "NPS1raw.to_csv(\"Data//831C_11471-20211117_Raw.csv\") # writing to CSV"
   ]
  }
 ],
 "metadata": {
  "interpreter": {
   "hash": "feae46882c3f6e9cb2b11d0ebb832d46734da437f01b6d576771e43ac1286d35"
  },
  "kernelspec": {
   "display_name": "Python 3.8.8 64-bit ('webs': venv)",
   "language": "python",
   "name": "python3"
  },
  "language_info": {
   "codemirror_mode": {
    "name": "ipython",
    "version": 3
   },
   "file_extension": ".py",
   "mimetype": "text/x-python",
   "name": "python",
   "nbconvert_exporter": "python",
   "pygments_lexer": "ipython3",
   "version": "3.8.8"
  },
  "orig_nbformat": 4
 },
 "nbformat": 4,
 "nbformat_minor": 2
}
