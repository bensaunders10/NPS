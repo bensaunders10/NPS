{
 "cells": [
  {
   "cell_type": "code",
   "execution_count": 37,
   "metadata": {},
   "outputs": [
    {
     "data": {
      "application/vnd.jupyter.widget-view+json": {
       "model_id": "e69c87b9322e4bab8ed6d66eb4bc013b",
       "version_major": 2,
       "version_minor": 0
      },
      "text/plain": [
       "Canvas(toolbar=Toolbar(toolitems=[('Home', 'Reset original view', 'home', 'home'), ('Back', 'Back to previous …"
      ]
     },
     "metadata": {},
     "output_type": "display_data"
    },
    {
     "data": {
      "application/vnd.jupyter.widget-view+json": {
       "model_id": "5e76e56252e04239ade1222da81c64d0",
       "version_major": 2,
       "version_minor": 0
      },
      "text/plain": [
       "HBox(children=(Output(),), layout=Layout(margin='0px 0px 0px 90px'))"
      ]
     },
     "metadata": {},
     "output_type": "display_data"
    },
    {
     "data": {
      "application/vnd.jupyter.widget-view+json": {
       "model_id": "73df744c98d9401cb79bd238ed5af808",
       "version_major": 2,
       "version_minor": 0
      },
      "text/plain": [
       "VBox(children=(HBox(children=(ToggleButtons(description='Stat. level: ', layout=Layout(width='250px'), options…"
      ]
     },
     "metadata": {},
     "output_type": "display_data"
    },
    {
     "data": {
      "application/vnd.jupyter.widget-view+json": {
       "model_id": "f1a7af412b3b463c8f87cef3b10ec6b4",
       "version_major": 2,
       "version_minor": 0
      },
      "text/plain": [
       "Output()"
      ]
     },
     "metadata": {},
     "output_type": "display_data"
    }
   ],
   "source": [
    "import pandas as pd\n",
    "import ipywidgets as widgets\n",
    "import matplotlib.pyplot as plt\n",
    "from matplotlib.dates import DateFormatter, MinuteLocator, date2num\n",
    "from IPython.display import HTML\n",
    "\n",
    "d = \"Data//\"\n",
    "flis = [\"LT1\", \"LT2\", \"LT3\", \"LT4\", \"LT5\", \"LT6\", \"LT7\", \"LT8\"]\n",
    "OB = [\"16 Hz\",\"31.5 Hz\",\"63 Hz\",\"125 Hz\",\"250 Hz\",\"500 Hz\",\"1 kHz\",\"2 kHz\",\"4 kHz\",\"8 kHz\",\"16 kHz\"]\n",
    "sheet = [\"Leq\",\"L90(LN4)\"]\n",
    "weather = pd.read_excel(d+\"Weather.xlsx\")\n",
    "weather['Time'] = pd.to_datetime(weather['Time'].astype(str))\n",
    "wdir = [\"N\",\"NNE\",\"NE\",\"ENE\",\"E\",\"ESE\",\"SE\",\"SSE\",\"S\",\"SSW\",\"SW\",\"WSW\",\"W\",\"WNW\",\"NW\",\"NNW\",\"---\"]\n",
    "lt = [[[] for i in range(2)] for j in range(8)]\n",
    "dca, dcb = '07:00', '04:00'\n",
    "lcrit = 1\n",
    "\n",
    "for i, j in enumerate(flis):\n",
    "    for k,l in enumerate(sheet):\n",
    "        lt[i][k] = pd.read_excel(d+flis[i]+\".xlsx\", sheet_name=l)\n",
    "        lt[i][k]['Start Time'] = pd.to_datetime(lt[i][k]['Start Time'].astype(str))\n",
    "        lt[i][k] = pd.merge_asof(lt[i][k],weather,left_on=\"Start Time\", right_on=\"Time\")\n",
    "        lt[i][k] = lt[i][k].drop(labels=['Time'],axis=1)\n",
    "        lt[i][k] = lt[i][k].set_index('Start Time')\n",
    "        lt[i][k] = lt[i][k].tail(lt[i][k].shape[0] - 24) # removing first 6 hours from tail\n",
    "        lt[i][k] = lt[i][k].head(lt[i][k].shape[0] - 24) # removing first 6 hours from head\n",
    "\n",
    "%matplotlib widget\n",
    "fig = plt.figure(figsize=(10,4))\n",
    "ax1 = fig.add_subplot(121)\n",
    "ax2 = fig.add_subplot(122, sharex=ax1)\n",
    "\n",
    "def pr1(n, lw, c, w):\n",
    "    n = int(n-1)\n",
    "    if lw == 'Leq':\n",
    "        lwv = 0\n",
    "    else:\n",
    "        lwv = 1\n",
    "    ltall = lt[n][lwv]\n",
    "    start = ltall.index.min()\n",
    "    end = start+pd.Timedelta(hours=24)\n",
    "    ltall = ltall[start:end] # between two datetimes\n",
    "    ltall = ltall[ltall[\"Rain\"]<0.2]\n",
    "    ltall = ltall[ltall[\"Speed\"]<=5]\n",
    "    ltall = ltall[ltall[\"Dir\"].isin(w)]\n",
    "    if c:\n",
    "        ltdall = ltall.between_time(dca, dcb) #filtering for dawn chorus\n",
    "    return ltall, start, end\n",
    "\n",
    "def table(n, lw, c, w):\n",
    "    ltall, start, end = pr1(n, lw, c, w)\n",
    "    ltall_av,ltall_min,ltall_max = ltall['Main'].mean(),ltall['Main'].min(),ltall['Main'].max()\n",
    "    df = {'Date / Time':[start],'Arithmetic Mean (dBA)':ltall_av,'Min (dBA)':ltall_min,'Max (dBA)':ltall_max}\n",
    "    table1 = pd.DataFrame(df).round(1)\n",
    "    display(HTML(table1.to_html(index=False,notebook=True)))\n",
    "\n",
    "def plot(n, lw, c, w):\n",
    "    ax1.clear(), ax2.clear()\n",
    "    ltall, start, end = pr1(n, lw, c, w)\n",
    "    bins = range(15,80)\n",
    "    if lw == 'Leq':\n",
    "        ax1.set_ylabel('L$_{EQ}$ dBA')\n",
    "    else:\n",
    "        ax1.set_ylabel('L$_{90}$ dBA')\n",
    "    ax1.scatter(ltall.index,ltall['Main'],c='black',marker='.')\n",
    "    ltall_OB = ltall[OB].T\n",
    "    start, end = date2num(start), date2num(end)\n",
    "    ax2.imshow(ltall_OB, aspect=\"auto\", origin='lower', extent=[start,end,0,len(OB)])\n",
    "    myFmt = DateFormatter('%H:%M')\n",
    "    minutes = MinuteLocator(interval = 240)\n",
    "    ax1.xaxis.set_major_locator(minutes)\n",
    "    ax1.xaxis.set_major_formatter(myFmt)\n",
    "    tickloc = [x + 0.5 for x in range(0, len(OB))]\n",
    "    ax2.yaxis.set(ticks=tickloc, ticklabels=OB)\n",
    "    ax2.set_yticklabels(OB)\n",
    "    ax1.set_xlabel('Time')\n",
    "    ax2.set_xlabel('Time')\n",
    "    fig.autofmt_xdate()\n",
    "    fig.show()\n",
    "\n",
    "box_layout = widgets.Layout(display='flex',flex_flow='column',align_items='stretch')\n",
    "box_layout2 = widgets.Layout(display='inline-flex',flex_flow='row',align_items='stretch',margin='0px 0px 10px 45px')\n",
    "aw = widgets.Select(options=list(range(1,9)),description='LT: ',disabled=False)\n",
    "lw = widgets.ToggleButtons(options=['Leq','L90'],description='Stat. level: ',disabled=False, layout=dict(width='250px'))\n",
    "#bw = widgets.ToggleButtons(options=['Day','Night'],description='Period: ',disabled=False, layout=dict(width='250px'))\n",
    "cw = widgets.Checkbox(value=False,description='Filter dawn Chorus',disabled=False)\n",
    "wd = widgets.SelectMultiple(options=wdir,value=wdir,description='wind dir', disabled=False)\n",
    "out = widgets.interactive_output(plot, {'n': aw, 'lw': lw, 'c': cw,'w':wd})\n",
    "outt = widgets.interactive_output(table, {'n': aw, 'lw': lw, 'c': cw,'w':wd})\n",
    "ui = widgets.VBox([widgets.HBox([lw, cw],layout=box_layout2),widgets.HBox([aw, wd])],layout=box_layout)\n",
    "ui2 = widgets.HBox([outt],layout=widgets.Layout(margin='0px 0px 0px 90px'))\n",
    "display(ui2,ui,out)"
   ]
  }
 ],
 "metadata": {
  "interpreter": {
   "hash": "feae46882c3f6e9cb2b11d0ebb832d46734da437f01b6d576771e43ac1286d35"
  },
  "kernelspec": {
   "display_name": "Python 3.8.8 64-bit ('webs': venv)",
   "language": "python",
   "name": "python3"
  },
  "language_info": {
   "codemirror_mode": {
    "name": "ipython",
    "version": 3
   },
   "file_extension": ".py",
   "mimetype": "text/x-python",
   "name": "python",
   "nbconvert_exporter": "python",
   "pygments_lexer": "ipython3",
   "version": "3.8.8"
  },
  "orig_nbformat": 4
 },
 "nbformat": 4,
 "nbformat_minor": 2
}
