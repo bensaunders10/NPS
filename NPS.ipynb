{
 "cells": [
  {
   "cell_type": "code",
   "execution_count": 12,
   "metadata": {},
   "outputs": [
    {
     "data": {
      "application/vnd.jupyter.widget-view+json": {
       "model_id": "fff2be3eea4d45928f0ab06cf5d2af64",
       "version_major": 2,
       "version_minor": 0
      },
      "text/plain": [
       "Canvas(toolbar=Toolbar(toolitems=[('Home', 'Reset original view', 'home', 'home'), ('Back', 'Back to previous …"
      ]
     },
     "metadata": {},
     "output_type": "display_data"
    },
    {
     "data": {
      "application/vnd.jupyter.widget-view+json": {
       "model_id": "0f70114c84094876aa9e8ea219742c82",
       "version_major": 2,
       "version_minor": 0
      },
      "text/plain": [
       "HBox(children=(Output(),), layout=Layout(margin='0px 0px 0px 90px'))"
      ]
     },
     "metadata": {},
     "output_type": "display_data"
    },
    {
     "data": {
      "application/vnd.jupyter.widget-view+json": {
       "model_id": "9d092a8c57fc470db027dd3afd3cf10c",
       "version_major": 2,
       "version_minor": 0
      },
      "text/plain": [
       "VBox(children=(HBox(children=(NaiveDatetimePicker(value=Timestamp('2021-06-08 17:21:30'), description='Choose …"
      ]
     },
     "metadata": {},
     "output_type": "display_data"
    },
    {
     "data": {
      "application/vnd.jupyter.widget-view+json": {
       "model_id": "9ce22d3d6b8346daa643cde2ccc326ca",
       "version_major": 2,
       "version_minor": 0
      },
      "text/plain": [
       "Output()"
      ]
     },
     "metadata": {},
     "output_type": "display_data"
    }
   ],
   "source": [
    "import pandas as pd\n",
    "import ipywidgets as widgets\n",
    "import ipydatetime\n",
    "import matplotlib.pyplot as plt\n",
    "from matplotlib.dates import DateFormatter, MinuteLocator, date2num\n",
    "from IPython.display import HTML\n",
    "import datetime\n",
    "\n",
    "d = \"Data//\"\n",
    "flis = [\"LT1\", \"LT2\", \"LT3\", \"LT4\", \"LT5\", \"LT6\", \"LT7\", \"LT8\"]\n",
    "OB = [\"16 Hz\",\"31.5 Hz\",\"63 Hz\",\"125 Hz\",\"250 Hz\",\"500 Hz\",\"1 kHz\",\"2 kHz\",\"4 kHz\",\"8 kHz\",\"16 kHz\"]\n",
    "sheet = [\"Leq\",\"L90(LN4)\"]\n",
    "weather = pd.read_excel(d+\"Weather.xlsx\")\n",
    "weather['Time'] = pd.to_datetime(weather['Time'].astype(str))\n",
    "wdir = [\"N\",\"NNE\",\"NE\",\"ENE\",\"E\",\"ESE\",\"SE\",\"SSE\",\"S\",\"SSW\",\"SW\",\"WSW\",\"W\",\"WNW\",\"NW\",\"NNW\",\"---\"]\n",
    "lt = [[[] for i in range(2)] for j in range(8)]\n",
    "dca, dcb = '07:00', '04:00'\n",
    "lcrit = 1 \n",
    "smin = []\n",
    "pos = -1\n",
    "\n",
    "for i, j in enumerate(flis):\n",
    "    for k,l in enumerate(sheet):\n",
    "        lt[i][k] = pd.read_excel(d+flis[i]+\".xlsx\", sheet_name=l)\n",
    "        lt[i][k]['Start Time'] = pd.to_datetime(lt[i][k]['Start Time'].astype(str))\n",
    "        lt[i][k] = pd.merge_asof(lt[i][k],weather,left_on=\"Start Time\", right_on=\"Time\")\n",
    "        lt[i][k] = lt[i][k].drop(labels=['Time'],axis=1)\n",
    "        lt[i][k] = lt[i][k].set_index('Start Time')\n",
    "        smin.append(lt[i][k].index.min())\n",
    "        lt[i][k] = lt[i][k].tail(lt[i][k].shape[0] - 24) # removing first 6 hours from tail\n",
    "        lt[i][k] = lt[i][k].head(lt[i][k].shape[0] - 24) # removing first 6 hours from head\n",
    "start = min(smin)\n",
    "\n",
    "%matplotlib widget\n",
    "fig = plt.figure(figsize=(10,4))\n",
    "ax1 = fig.add_subplot(121)\n",
    "ax2 = fig.add_subplot(122, sharex=ax1)\n",
    "\n",
    "def pr1(n, lw, c, c2, w, tt):\n",
    "    global start\n",
    "    global pos\n",
    "    n = int(n-1)\n",
    "    if lw == 'Leq':\n",
    "        lwv = 0\n",
    "    else:\n",
    "        lwv = 1\n",
    "    ltall = lt[n][lwv]\n",
    "    ltmin = ltall.index.min()\n",
    "    if pos != n:\n",
    "        tt = ltmin\n",
    "        pos = n\n",
    "    start = datechange(tt)\n",
    "    end = start+pd.Timedelta(hours=12)\n",
    "    ltall = ltall[start:end] # between two datetimes\n",
    "    ltall = ltall[ltall[\"Dir\"].isin(w)]\n",
    "    if c:\n",
    "        ltall = ltall[ltall[\"Rain\"]<0.2]\n",
    "    if c2:\n",
    "        ltall = ltall[ltall[\"Speed\"]<=5]\n",
    "    return ltall, start, end, lw\n",
    "    \n",
    "def table(n, lw, c, c2, w, tt):\n",
    "    ltall, start, end, lw = pr1(n, lw, c, c2, w, tt)\n",
    "    ltall_av,ltall_min,ltall_max = ltall['Main'].mean(),ltall['Main'].min(),ltall['Main'].max()\n",
    "    df = {'Date / Time':[start],'Arithmetic Mean (dBA)':ltall_av,'Min (dBA)':ltall_min,'Max (dBA)':ltall_max}\n",
    "    table1 = pd.DataFrame(df).round(1)\n",
    "    display(HTML(table1.to_html(index=False,notebook=True)))\n",
    "\n",
    "def plot(n, lw, c, c2, w, tt):\n",
    "    ltall, start, end, lw = pr1(n, lw, c, c2, w, tt)\n",
    "    ax1.clear(), ax2.clear()\n",
    "    if lw == 'Leq':\n",
    "        ax1.set_ylabel('L$_{EQ}$ dBA')\n",
    "    else:\n",
    "        ax1.set_ylabel('L$_{90}$ dBA')\n",
    "    ax1.scatter(ltall.index,ltall['Main'],c='black',marker='.')\n",
    "    ltall_OB = ltall[OB].T\n",
    "    start, end = date2num(start), date2num(end)\n",
    "    ax2.imshow(ltall_OB, aspect=\"auto\", origin='lower', extent=[start,end,0,len(OB)])\n",
    "    myFmt = DateFormatter('%H:%M')\n",
    "    minutes = MinuteLocator(interval = 240)\n",
    "    ax1.xaxis.set_major_locator(minutes)\n",
    "    ax1.xaxis.set_major_formatter(myFmt)\n",
    "    tickloc = [x + 0.5 for x in range(0, len(OB))]\n",
    "    ax2.yaxis.set(ticks=tickloc, ticklabels=OB)\n",
    "    ax2.set_yticklabels(OB)\n",
    "    ax1.set_xlabel('Time')\n",
    "    ax2.set_xlabel('Time')\n",
    "    fig.autofmt_xdate()\n",
    "    fig.show()\n",
    "\n",
    "def datechange(tt):\n",
    "    global start\n",
    "    start = tt\n",
    "    dt.value = tt\n",
    "    return start\n",
    "\n",
    "def butin(i):\n",
    "    global start\n",
    "    start = start+datetime.timedelta(hour=1)\n",
    "    dt.value = start\n",
    "\n",
    "def butout():\n",
    "    display(\"Button clicked.\")\n",
    "\n",
    "box_layout = widgets.Layout(display='flex',flex_flow='column',align_items='stretch')\n",
    "box_layout2 = widgets.Layout(display='inline-flex',flex_flow='row',align_items='stretch',margin='0px 0px 10px 45px')\n",
    "aw = widgets.Select(options=list(range(1,9)),description='LT: ',disabled=False)\n",
    "lw = widgets.ToggleButtons(options=['Leq','L90'],description='Stat. level: ',disabled=False, layout=dict(width='250px'))\n",
    "#b1 = widgets.Button(description=\"+1 hour\",disabled=False, layout=dict(width='250px'), continuous_update=False)\n",
    "#b2 = widgets.Button(description=\"-1 hour\",disabled=False, layout=dict(width='250px'))\n",
    "dt = ipydatetime.NaiveDatetimePicker(description='Choose date / time',disabled=False,value=start)\n",
    "cw = widgets.Checkbox(value=False,description='Filter preceipition',disabled=False)\n",
    "cw2 = widgets.Checkbox(value=False,description='Filter wind speeds above 11mph',disabled=False)\n",
    "wd = widgets.SelectMultiple(options=wdir,value=wdir,description='wind dir', disabled=False)\n",
    "out = widgets.interactive_output(plot, {'n': aw, 'lw': lw, 'c': cw, 'c2': cw2,'w':wd,'tt':dt})\n",
    "tablewidget = widgets.interactive_output(table, {'n': aw, 'lw': lw, 'c': cw, 'c2': cw,'w':wd,'tt':dt})\n",
    "ui = widgets.VBox([widgets.HBox([dt, lw, widgets.VBox([cw,cw2],layout=box_layout)],layout=box_layout2),widgets.HBox([aw, wd])],layout=box_layout)\n",
    "out2 = widgets.HBox([tablewidget],layout=widgets.Layout(margin='0px 0px 0px 90px'))\n",
    "display(out2, ui, out)"
   ]
  }
 ],
 "metadata": {
  "interpreter": {
   "hash": "feae46882c3f6e9cb2b11d0ebb832d46734da437f01b6d576771e43ac1286d35"
  },
  "kernelspec": {
   "display_name": "Python 3.8.8 64-bit ('webs': venv)",
   "language": "python",
   "name": "python3"
  },
  "language_info": {
   "codemirror_mode": {
    "name": "ipython",
    "version": 3
   },
   "file_extension": ".py",
   "mimetype": "text/x-python",
   "name": "python",
   "nbconvert_exporter": "python",
   "pygments_lexer": "ipython3",
   "version": "3.8.8"
  },
  "orig_nbformat": 4
 },
 "nbformat": 4,
 "nbformat_minor": 2
}
