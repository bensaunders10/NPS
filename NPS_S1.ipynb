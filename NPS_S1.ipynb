{
 "cells": [
  {
   "cell_type": "code",
   "execution_count": 1,
   "metadata": {},
   "outputs": [],
   "source": [
    "import pandas as pd\n",
    "import matplotlib.pyplot as plt\n",
    "from matplotlib.dates import DateFormatter, MinuteLocator, date2num\n",
    "import datetime\n",
    "file = \"Data//831C_11471-20211117 144645-21111702.LD0-usb.xlsx\" # location of xlsx file\n",
    "NPS1raw = pd.read_excel(file,sheet_name=\"Time History\",index_col=\"Date\") # reading excel file into pandas for sheet 'Time History' with index as 'Date column\n",
    "NPS1ThirdCols = NPS1raw.loc[:, NPS1raw.columns.str.startswith('1/3')].columns # list of 3rd octave columns\n",
    "NPS1thirds = NPS1raw.loc[:, NPS1ThirdCols] # data with only third-octave columns\n",
    "NPS1thirds = NPS1thirds.fillna(0) # filling NaN data with zeros"
   ]
  },
  {
   "cell_type": "code",
   "execution_count": 2,
   "metadata": {},
   "outputs": [
    {
     "data": {
      "application/vnd.jupyter.widget-view+json": {
       "model_id": "13ff81fc447443d4850ae43c44041019",
       "version_major": 2,
       "version_minor": 0
      },
      "text/plain": [
       "Canvas(toolbar=Toolbar(toolitems=[('Home', 'Reset original view', 'home', 'home'), ('Back', 'Back to previous …"
      ]
     },
     "metadata": {},
     "output_type": "display_data"
    }
   ],
   "source": [
    "start = \"2021-11-17 16:50:00\" # Set start time / date required\n",
    "start_dt = datetime.datetime.strptime(start, '%Y-%m-%d %H:%M:%S') # convert start time from text to datetime format\n",
    "end_dt = start_dt+pd.Timedelta(hours=1) # add one hour to start time for end time\n",
    "NPS1thirdsplot = NPS1thirds[start_dt:end_dt] # filtering \n",
    "\n",
    "# formatting matplotlib to create spectrogram \n",
    "%matplotlib widget\n",
    "fig, ax = plt.subplots(figsize=(10,5))\n",
    "plt.title(\"1 HOUR PERIOD STARTING \"+start, loc='right', fontsize=8) # Title\n",
    "Cols = [col.replace(\"1/3 LZeq \",\"\")+\"Hz\" for col in NPS1ThirdCols] # Formatting columns\n",
    "startfloat, endfloat = date2num(start_dt), date2num(end_dt) # Converts datetime because imshow only accepts float values\n",
    "ax.imshow(NPS1thirdsplot.T, aspect=\"auto\", origin='lower', extent=[startfloat,endfloat,0,len(Cols)], interpolation=None) # plot spectrogram\n",
    "tickloc = [x + 0.5 for x in range(0, len(Cols))] # moving y tick location to center of pixel line\n",
    "ax.yaxis.set(ticks=tickloc) # setting tick locaiton\n",
    "ax.set_yticklabels(Cols, fontsize=6) # setting y tick labels\n",
    "ax.set_xlabel('Time') # x label\n",
    "ax.set_ylabel('1/3 Octave band center frequency') # y label\n",
    "myFmt = DateFormatter('%H:%M') # formatter for x axis datetime (##:##)\n",
    "minutes = MinuteLocator(interval = 5) # \n",
    "ax.xaxis.set_major_locator(minutes)\n",
    "ax.xaxis.set_major_formatter(myFmt)\n",
    "fig.autofmt_xdate()\n",
    "fig.show()"
   ]
  }
 ],
 "metadata": {
  "interpreter": {
   "hash": "feae46882c3f6e9cb2b11d0ebb832d46734da437f01b6d576771e43ac1286d35"
  },
  "kernelspec": {
   "display_name": "Python 3.8.8 64-bit ('webs': venv)",
   "language": "python",
   "name": "python3"
  },
  "language_info": {
   "codemirror_mode": {
    "name": "ipython",
    "version": 3
   },
   "file_extension": ".py",
   "mimetype": "text/x-python",
   "name": "python",
   "nbconvert_exporter": "python",
   "pygments_lexer": "ipython3",
   "version": "3.8.8"
  },
  "orig_nbformat": 4
 },
 "nbformat": 4,
 "nbformat_minor": 2
}
