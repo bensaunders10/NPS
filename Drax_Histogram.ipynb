{
 "cells": [
  {
   "cell_type": "code",
   "execution_count": 3,
   "source": [
    "import pandas as pd\r\n",
    "from ipywidgets import interactive\r\n",
    "import ipywidgets as widgets\r\n",
    "import matplotlib.pyplot as plt\r\n",
    "from matplotlib.dates import DateFormatter, HourLocator\r\n",
    "from IPython.display import HTML\r\n",
    "\r\n",
    "d = \"Data//\"\r\n",
    "flis = [\"LT1\", \"LT2\", \"LT3\", \"LT4\", \"LT5\", \"LT6\", \"LT7\", \"LT8\"]\r\n",
    "sheet = [\"Leq\",\"L90(LN4)\"]\r\n",
    "llist = ['None','Load','Unit 1', 'Unit 2', 'Unit 3', 'Unit 4']\r\n",
    "load = pd.read_excel(d+\"Load.xlsx\")\r\n",
    "load['Time'] = pd.to_datetime(load['Time'].astype(str))\r\n",
    "weather = pd.read_excel(d+\"Weather.xlsx\")\r\n",
    "weather['Time'] = pd.to_datetime(weather['Time'].astype(str))\r\n",
    "wdir = [\"N\",\"NNE\",\"NE\",\"ENE\",\"E\",\"ESE\",\"SE\",\"SSE\",\"S\",\"SSW\",\"SW\",\"WSW\",\"W\",\"WNW\",\"NW\",\"NNW\",\"---\"]\r\n",
    "lt = [[[] for i in range(2)] for j in range(8)]\r\n",
    "dca, dcb = '07:00', '04:00'\r\n",
    "lcrit = 1\r\n",
    "\r\n",
    "for i, j in enumerate(flis):\r\n",
    "    for k,l in enumerate(sheet):\r\n",
    "        lt[i][k] = pd.read_excel(d+flis[i]+\".xlsx\", sheet_name=l)\r\n",
    "        lt[i][k]['Start Time'] = pd.to_datetime(lt[i][k]['Start Time'].astype(str))\r\n",
    "        lt[i][k] = pd.merge_asof(lt[i][k],load,left_on=\"Start Time\", right_on=\"Time\")\r\n",
    "        lt[i][k] = lt[i][k].drop(labels=['Time'],axis=1)\r\n",
    "        lt[i][k] = pd.merge_asof(lt[i][k],weather,left_on=\"Start Time\", right_on=\"Time\")\r\n",
    "        lt[i][k] = lt[i][k].drop(labels=['Time'],axis=1)\r\n",
    "        lt[i][k] = lt[i][k].set_index('Start Time')\r\n",
    "        lt[i][k] = lt[i][k].tail(lt[i][k].shape[0] - 24) # removing first 6 hours from tail\r\n",
    "        lt[i][k] = lt[i][k].head(lt[i][k].shape[0] - 24) # removing first 6 hours from head\r\n",
    "\r\n",
    "%matplotlib widget\r\n",
    "def table(n, lw, d, c, l, w):\r\n",
    "    n = int(n-1)\r\n",
    "    if lw == 'Leq':\r\n",
    "        lwv = 0\r\n",
    "        ax1.set_xlabel('L$_{EQ}$ dBA')\r\n",
    "    else:\r\n",
    "        lwv = 1\r\n",
    "        ax1.set_xlabel('L$_{90}$ dBA')\r\n",
    "    if d == 'Night':\r\n",
    "        st, et  = '23:00', '07:00'\r\n",
    "    else:\r\n",
    "        st, et = '07:00', '23:00'\r\n",
    "    ltall = lt[n][lwv].between_time(st, et) #filtering results for day and night\r\n",
    "    ltall = ltall[ltall[\"Rain\"]<0.2]\r\n",
    "    ltall = ltall[ltall[\"Speed\"]<=5]\r\n",
    "    ltall = ltall[ltall[\"Dir\"].isin(w)]\r\n",
    "    ltdcall = ltall.between_time(dca, dcb) #filtering for dawn chorus\r\n",
    "    if l == 'None':\r\n",
    "        if c:\r\n",
    "            lton_av,lton_min,lton_max,ltoff_av,ltoff_min,ltoff_max = 0,0,0,0,0,0\r\n",
    "            ltall_av,ltall_min,ltall_max = ltdcall['Main'].mean(),ltdcall['Main'].min(),ltdcall['Main'].max()\r\n",
    "        else:\r\n",
    "            lton_av,lton_min,lton_max,ltoff_av,ltoff_min,ltoff_max = 0,0,0,0,0,0\r\n",
    "            ltall_av,ltall_min,ltall_max = ltall['Main'].mean(),ltall['Main'].min(),ltall['Main'].max()\r\n",
    "    else:\r\n",
    "        lton, ltoff = ltall[ltall[l]>=lcrit], ltall[ltall[l]<lcrit] #filtering results with and without drax power\r\n",
    "        ltdcon,ltdcoff = ltdcall[ltdcall[l]>=lcrit],ltdcall[ltdcall[l]<lcrit] #filtering dawn chorus results with and without drax power\r\n",
    "        if c:\r\n",
    "            lton_av,lton_min,lton_max = ltdcon['Main'].mean(),ltdcon['Main'].min(),ltdcon['Main'].max()\r\n",
    "            ltoff_av,ltoff_min,ltoff_max = ltdcoff['Main'].mean(),ltdcoff['Main'].min(),ltdcoff['Main'].max()\r\n",
    "            ltall_av,ltall_min,ltall_max = ltdcall['Main'].mean(),ltdcall['Main'].min(),ltdcall['Main'].max()\r\n",
    "        else:\r\n",
    "            lton_av,lton_min,lton_max = lton['Main'].mean(),lton['Main'].min(),lton['Main'].max()\r\n",
    "            ltoff_av,ltoff_min,ltoff_max = ltoff['Main'].mean(),ltoff['Main'].min(),ltoff['Main'].max()\r\n",
    "            ltall_av,ltall_min,ltall_max = ltall['Main'].mean(),ltall['Main'].min(),ltall['Main'].max()\r\n",
    "    id1 = ['All data', 'Plant On','Plant Off']\r\n",
    "    av1 = [ltall_av,lton_av, ltoff_av]\r\n",
    "    min1 = [ltall_min, lton_min, ltoff_min]\r\n",
    "    max1 = [ltall_max, lton_max, ltoff_max]\r\n",
    "    df = {'ID':id1,'Arithmetic Mean (dBA)':av1,'Min (dBA)':min1,'Max (dBA)':max1}\r\n",
    "    table1 = pd.DataFrame(df).round(1)\r\n",
    "    display(HTML(table1.to_html(index=False,notebook=True)))\r\n",
    "\r\n",
    "fig, [ax1, ax2] = plt.subplots(1, 2, figsize=(10,4))\r\n",
    "def plothist(n, lw, d, c, l, w):\r\n",
    "    ax1.clear(), ax2.clear()\r\n",
    "    n = int(n-1)\r\n",
    "    bins = range(15,80)\r\n",
    "    if lw == 'Leq':\r\n",
    "        lwv = 0\r\n",
    "        ax1.set_xlabel('L$_{EQ}$ dBA')\r\n",
    "        ax2.set_xlabel('L$_{EQ}$ dBA')\r\n",
    "    else:\r\n",
    "        lwv = 1\r\n",
    "        ax1.set_xlabel('L$_{90}$ dBA')\r\n",
    "        ax2.set_xlabel('L$_{90}$ dBA')\r\n",
    "    if d == 'Night':\r\n",
    "        st, et  = '23:00', '07:00'\r\n",
    "    else:\r\n",
    "        st, et = '07:00', '23:00'\r\n",
    "    ltall = lt[n][lwv].between_time(st, et) #filtering results for day and night\r\n",
    "    ltall = ltall[ltall[\"Rain\"]<0.2]\r\n",
    "    ltall = ltall[ltall[\"Speed\"]<=5]\r\n",
    "    ltall = ltall[ltall[\"Dir\"].isin(w)]\r\n",
    "    ltdcall = ltall.between_time(dca, dcb) #filtering for dawn chorus\r\n",
    "    if l == 'None':\r\n",
    "        if c:\r\n",
    "            ax1.hist(ltdcall['Main'],bins=bins,alpha=0.7)\r\n",
    "            ax2.hist(ltdcall['Main'],bins=bins,alpha=0.7,density=True, histtype='step', cumulative=-1)\r\n",
    "        else:\r\n",
    "            ax1.hist(ltall['Main'],bins=bins,alpha=0.7)\r\n",
    "            ax2.hist(ltall['Main'],bins=bins,alpha=0.7,density=True, histtype='step', cumulative=-1)\r\n",
    "    else:\r\n",
    "        lton, ltoff = ltall[ltall[l]>=lcrit], ltall[ltall[l]<lcrit] #filtering results with and without drax power\r\n",
    "        ltdcon,ltdcoff = ltdcall[ltdcall[l]>=lcrit],ltdcall[ltdcall[l]<lcrit] #filtering dawn chorus results with and without drax power\r\n",
    "        if c:\r\n",
    "            ax1.hist(ltdcoff['Main'],bins=bins,alpha=0.7)\r\n",
    "            ax1.hist(ltdcon['Main'],bins=bins,alpha=0.7)\r\n",
    "            ax2.hist(ltdcoff['Main'],bins=bins,alpha=0.7,density=True, histtype='step', cumulative=-1)\r\n",
    "            ax2.hist(ltdcon['Main'],bins=bins,alpha=0.7,density=True, histtype='step', cumulative=-1)\r\n",
    "        else:\r\n",
    "            ax1.hist(ltoff['Main'],bins=bins,alpha=0.7)\r\n",
    "            ax1.hist(lton['Main'],bins=bins,alpha=0.7)\r\n",
    "            ax2.hist(ltoff['Main'],bins=bins,alpha=0.7,density=True, histtype='step', cumulative=-1)\r\n",
    "            ax2.hist(lton['Main'],bins=bins,alpha=0.7,density=True, histtype='step', cumulative=-1)\r\n",
    "        ax1.legend(['Load <'+str(lcrit), 'Load >='+str(lcrit)])\r\n",
    "    ax1.set_ylabel('Samples over survey period')\r\n",
    "    ax2.set_ylabel('Probability (exceedance)')\r\n",
    "    fig.show()\r\n",
    "\r\n",
    "box_layout = widgets.Layout(display='flex',flex_flow='column',align_items='stretch')\r\n",
    "box_layout2 = widgets.Layout(display='inline-flex',flex_flow='row',align_items='stretch',margin='0px 0px 10px 45px')\r\n",
    "ss = widgets.Select(options=llist,description='Load value: ',disabled=False)\r\n",
    "aw = widgets.Select(options=list(range(1,9)),description='LT: ',disabled=False)\r\n",
    "lw = widgets.ToggleButtons(options=['Leq','L90'],description='Stat. level: ',disabled=False, layout=dict(width='250px'))\r\n",
    "bw = widgets.ToggleButtons(options=['Day','Night'],description='Period: ',disabled=False, layout=dict(width='250px'))\r\n",
    "cw = widgets.Checkbox(value=False,description='Filter dawn Chorus',disabled=False)\r\n",
    "wd = widgets.SelectMultiple(options=wdir,value=wdir,description='wind dir', disabled=False)\r\n",
    "out = widgets.interactive_output(plothist, {'n': aw, 'lw': lw, 'd': bw, 'c': cw, 'l':ss,'w':wd})\r\n",
    "outt = widgets.interactive_output(table, {'n': aw, 'lw': lw, 'd': bw, 'c': cw, 'l':ss,'w':wd})\r\n",
    "ui = widgets.VBox([widgets.HBox([lw, bw, cw],layout=box_layout2),widgets.HBox([aw, ss, wd])],layout=box_layout)\r\n",
    "ui2 = widgets.HBox([outt],layout=widgets.Layout(margin='0px 0px 0px 90px'))\r\n",
    "display(ui2,ui,out)"
   ],
   "outputs": [
    {
     "output_type": "display_data",
     "data": {
      "application/vnd.jupyter.widget-view+json": {
       "version_major": 2,
       "version_minor": 0,
       "model_id": "b4836344e88c4856956de10e6ab3c130"
      },
      "text/plain": [
       "Canvas(toolbar=Toolbar(toolitems=[('Home', 'Reset original view', 'home', 'home'), ('Back', 'Back to previous …"
      ]
     },
     "metadata": {}
    },
    {
     "output_type": "display_data",
     "data": {
      "application/vnd.jupyter.widget-view+json": {
       "version_major": 2,
       "version_minor": 0,
       "model_id": "079572654670458f8de0419b2ad37075"
      },
      "text/plain": [
       "HBox(children=(Output(),), layout=Layout(margin='0px 0px 0px 90px'))"
      ]
     },
     "metadata": {}
    },
    {
     "output_type": "display_data",
     "data": {
      "application/vnd.jupyter.widget-view+json": {
       "version_major": 2,
       "version_minor": 0,
       "model_id": "405dda9291934c28a3b4701bcc8d6a43"
      },
      "text/plain": [
       "VBox(children=(HBox(children=(ToggleButtons(description='Stat. level: ', layout=Layout(width='250px'), options…"
      ]
     },
     "metadata": {}
    },
    {
     "output_type": "display_data",
     "data": {
      "application/vnd.jupyter.widget-view+json": {
       "version_major": 2,
       "version_minor": 0,
       "model_id": "2428231dfaaf4753b9178ec7a38cc69d"
      },
      "text/plain": [
       "Output()"
      ]
     },
     "metadata": {}
    }
   ],
   "metadata": {}
  }
 ],
 "metadata": {
  "interpreter": {
   "hash": "218d5642bc0583968b6c6b601cfdbf2fa09241a2a38caa05f0c62e5e64ed56d9"
  },
  "kernelspec": {
   "name": "python3",
   "display_name": "Python 3.8.8 64-bit ('acoustics': venv)"
  },
  "language_info": {
   "codemirror_mode": {
    "name": "ipython",
    "version": 3
   },
   "file_extension": ".py",
   "mimetype": "text/x-python",
   "name": "python",
   "nbconvert_exporter": "python",
   "pygments_lexer": "ipython3",
   "version": "3.8.8"
  }
 },
 "nbformat": 4,
 "nbformat_minor": 2
}