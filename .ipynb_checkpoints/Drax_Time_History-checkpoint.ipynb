{
 "cells": [
  {
   "cell_type": "code",
   "execution_count": 1,
   "metadata": {},
   "outputs": [],
   "source": [
    "import pandas as pd\n",
    "from ipywidgets import interactive\n",
    "import ipywidgets as widgets\n",
    "import matplotlib.pyplot as plt\n",
    "from matplotlib.dates import DateFormatter, HourLocator\n",
    "from scipy.stats import ttest_ind\n",
    "\n",
    "d = \"Data//\"\n",
    "flis = [\"LT1\", \"LT2\", \"LT3\", \"LT4\", \"LT5\", \"LT6\", \"LT7\", \"LT8\"]\n",
    "llist = ['Load', 'Unit 1', 'Unit 2', 'Unit 3', 'Unit 4', 'Unit 5', 'Unit 6']\n",
    "load = pd.read_excel(d+\"Load.xlsx\")\n",
    "load['Time'] = pd.to_datetime(load['Time'].astype(str))\n",
    "weather = pd.read_excel(d+\"Weather.xlsx\")\n",
    "weather['Time'] = pd.to_datetime(weather['Time'].astype(str))\n",
    "wdir = [\"N\",\"NNE\",\"NE\",\"ENE\",\"E\",\"ESE\",\"SE\",\"SSE\",\"S\",\"SSW\",\"SW\",\"WSW\",\"W\",\"WNW\",\"NNW\",\"NW\",\"---\"]\n",
    "lt = [[] for i in range(8)]\n",
    "ltdc = [[] for i in range(8)]\n",
    "dca, dcb = '07:00', '04:00'\n",
    "lcrit = 1\n",
    "\n",
    "for i, j in enumerate(flis):\n",
    "    lt[i] = pd.read_excel(d+flis[i]+\".xlsx\", sheet_name=\"L90(LN4)\")\n",
    "    lt[i]['Start Time'] = pd.to_datetime(lt[i]['Start Time'].astype(str))\n",
    "    lt[i] = pd.merge_asof(lt[i],load,left_on=\"Start Time\", right_on=\"Time\")\n",
    "    lt[i] = lt[i].drop(labels=['Time'],axis=1)\n",
    "    lt[i] = pd.merge_asof(lt[i],weather,left_on=\"Start Time\", right_on=\"Time\")\n",
    "    lt[i] = lt[i].drop(labels=['Time'],axis=1)\n",
    "    lt[i] = lt[i].set_index('Start Time')\n",
    "    lt[i] = lt[i].tail(lt[i].shape[0] - 24) # removing first 6 hours from tail\n",
    "    lt[i] = lt[i].head(lt[i].shape[0] - 24) # removing first 6 hours from head"
   ]
  },
  {
   "cell_type": "code",
   "execution_count": null,
   "metadata": {},
   "outputs": [],
   "source": [
    "%matplotlib widget\n",
    "fig, ax1 = plt.subplots(1, 1, figsize=(8,4))\n",
    "def plotline(n, d, c, l, w):\n",
    "    n = int(n-1)\n",
    "    ax1.clear()\n",
    "    if d:\n",
    "        t, st, et  = 'Night Time','23:00', '07:00'\n",
    "    else:\n",
    "        t, st, et = 'Day Time', '07:00', '23:00'\n",
    "    ltall = lt[n].between_time(st, et) #filtering results for day and night\n",
    "    ltall = ltall[ltall[\"Rain\"]<0.2]\n",
    "    ltall = ltall[ltall[\"Speed\"]<=5]\n",
    "    ltall = ltall[ltall[\"Dir\"].isin(w)]\n",
    "    ltdcall = ltall.between_time(dca, dcb) #filtering for dawn chorus\n",
    "    lton, ltoff = ltall[ltall[l]>=lcrit], ltall[ltall[l]<lcrit] #filtering results with and without drax power\n",
    "    ltdcon,ltdcoff = ltdcall[ltdcall[l]>=lcrit],ltdcall[ltdcall[l]<lcrit] #filtering dawn chorus results with and without drax power\n",
    "    if c:\n",
    "        t2 = ' without dawn chorus'\n",
    "        ax1.scatter(ltdcoff.index,ltdcoff['Main'],c='black')\n",
    "        ax1.scatter(ltdcon.index,ltdcon['Main'],c='red')\n",
    "    else:\n",
    "        t2 = ''\n",
    "        ax1.scatter(ltoff.index,ltoff['Main'],c='black')\n",
    "        ax1.scatter(lton.index,lton['Main'],c='red')\n",
    "    plt.title(t+' at LT'+str(n+1)+t2)\n",
    "    myFmt = DateFormatter('%d.%m | %H:%M')\n",
    "    hours = HourLocator(interval = 6)\n",
    "    ax1.xaxis.set_major_locator(hours)\n",
    "    ax1.xaxis.set_major_formatter(myFmt)\n",
    "    fig.autofmt_xdate()\n",
    "    ax1.set_ylim(15,70)\n",
    "    ax1.legend([l +' <'+str(lcrit), l +' >='+str(lcrit)])\n",
    "    fig.show()\n",
    "box_layout = widgets.Layout(display='inline-flex',flex_flow='column',align_items='center')\n",
    "ss = widgets.Select(options=llist,description='Load value: ',disabled=False)\n",
    "aw = widgets.Select(options=list(range(1,8)),description='LT: ',disabled=False)\n",
    "bw = widgets.ToggleButton(value=False,description='Day / Night',disabled=False)\n",
    "cw = widgets.Checkbox(value=False,description='Filter dawn Chorus',disabled=False)\n",
    "wd = widgets.SelectMultiple(options=wdir,value=[wdir[0]],description='wind dir', disabled=False)\n",
    "ui = widgets.VBox([widgets.HBox([aw, ss, wd]),widgets.HBox([bw, cw])],layout=box_layout)\n",
    "out = widgets.interactive_output(plotline, {'n': aw, 'd': bw, 'c': cw, 'l':ss,'w':wd})\n",
    "display(ui,out)"
   ]
  }
 ],
 "metadata": {
  "interpreter": {
   "hash": "218d5642bc0583968b6c6b601cfdbf2fa09241a2a38caa05f0c62e5e64ed56d9"
  },
  "kernelspec": {
   "display_name": "Python 3 (ipykernel)",
   "language": "python",
   "name": "python3"
  },
  "language_info": {
   "codemirror_mode": {
    "name": "ipython",
    "version": 3
   },
   "file_extension": ".py",
   "mimetype": "text/x-python",
   "name": "python",
   "nbconvert_exporter": "python",
   "pygments_lexer": "ipython3",
   "version": "3.8.8"
  }
 },
 "nbformat": 4,
 "nbformat_minor": 2
}
