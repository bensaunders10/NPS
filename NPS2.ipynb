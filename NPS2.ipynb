{
 "cells": [
  {
   "cell_type": "code",
   "execution_count": 24,
   "metadata": {},
   "outputs": [
    {
     "data": {
      "application/vnd.jupyter.widget-view+json": {
       "model_id": "02928166e0454db8afa2f0e6d10cb8b8",
       "version_major": 2,
       "version_minor": 0
      },
      "text/plain": [
       "Canvas(toolbar=Toolbar(toolitems=[('Home', 'Reset original view', 'home', 'home'), ('Back', 'Back to previous …"
      ]
     },
     "metadata": {},
     "output_type": "display_data"
    },
    {
     "data": {
      "application/vnd.jupyter.widget-view+json": {
       "model_id": "139749e7441348e78f21d42dd2ab23f5",
       "version_major": 2,
       "version_minor": 0
      },
      "text/plain": [
       "HBox(children=(Button(description='Previous hour', style=ButtonStyle()), Button(description='Next hour', style…"
      ]
     },
     "metadata": {},
     "output_type": "display_data"
    },
    {
     "data": {
      "application/vnd.jupyter.widget-view+json": {
       "model_id": "1e1e1c13ba874acfa3ebfe4144f35851",
       "version_major": 2,
       "version_minor": 0
      },
      "text/plain": [
       "Output()"
      ]
     },
     "metadata": {},
     "output_type": "display_data"
    }
   ],
   "source": [
    "import pandas as pd\n",
    "import matplotlib.pyplot as plt\n",
    "from matplotlib.dates import DateFormatter, MinuteLocator, date2num\n",
    "import datetime\n",
    "import ipywidgets as widgets\n",
    "import numpy as np\n",
    "from IPython.display import HTML\n",
    "\n",
    "file = \"Data//831C_11471-20211117_Raw.csv\" # location of processed CSV file (pre-processing speeds up read time)\n",
    "NPS1raw = pd.read_csv(file,index_col=\"Date\", parse_dates=True) # reading processed csv with index as 'Date' column\n",
    "NPS1ThirdCols = NPS1raw.loc[:, NPS1raw.columns.str.startswith('1/3')].columns # list of 3rd octave columns\n",
    "#start = \"2021-11-17 16:50:00\" # Set start time / date required\n",
    "#start_dt = datetime.datetime.strptime(start, '%Y-%m-%d %H:%M:%S') # convert start time from text to datetime format\n",
    "start_dt = NPS1raw.index[0]\n",
    "\n",
    "# formatting matplotlib to create spectrogram \n",
    "%matplotlib widget\n",
    "fig, (ax1, ax2, ax3) = plt.subplots(nrows=3, figsize=(10,7), gridspec_kw={'height_ratios': [1, 6, 4]}, sharex=True, tight_layout=True)\n",
    "\n",
    "Cols = [col.replace(\"1/3 LZeq \",\"\")+\"Hz\" for col in NPS1ThirdCols] # Formatting columns\n",
    "tickloc = [x + 0.5 for x in range(0, len(Cols))] # moving y tick location to center of pixel line\n",
    "\n",
    "def prevf(b):\n",
    "    deltain = pd.Timedelta(hours=-1)\n",
    "    update(deltain, Prec.value, Wind.value)\n",
    "\n",
    "def nextf(b):\n",
    "    deltain = pd.Timedelta(hours=1)\n",
    "    update(deltain, Prec.value, Wind.value)\n",
    "\n",
    "def changef(change):\n",
    "    update(pd.Timedelta(hours=0), Prec.value, Wind.value)\n",
    "        \n",
    "def update(delta, p, w):\n",
    "    global start_dt, NPS1raw\n",
    "    NPS1rawplot = NPS1raw   \n",
    "    start_dt += delta\n",
    "    end_dt = start_dt+pd.Timedelta(hours=1) # add one hour to start time for end time\n",
    "    NPS1rawplot = NPS1rawplot[start_dt:end_dt] # filtering by start time for end time    \n",
    "    if w:\n",
    "        NPS1rawplot = NPS1rawplot[NPS1rawplot[\"Wind Speed (m/s)\"]<=5] # Removing wind speed above 5m/s      \n",
    "    dtrange = pd.date_range(start=start_dt, end=end_dt, freq='S')\n",
    "    NPS1rawplot = NPS1rawplot.reindex(dtrange) # reindexing to maintain time chart time period        \n",
    "    NPS1thirdsplot = NPS1rawplot.loc[:, NPS1ThirdCols] # filter data with only third-octave columns\n",
    "    startfloat, endfloat = date2num(start_dt), date2num(end_dt) # Converts datetime because imshow only accepts float values\n",
    "    \n",
    "    plt.suptitle(\"1 HOUR PERIOD STARTING \"+str(start_dt), fontsize=10,x=0.8,y=0.88) # Title\n",
    "\n",
    "    #plot 1: Table\n",
    "    NPSLAeqvals = NPS1rawplot['LAeq'].dropna() # drop nan values before calculation\n",
    "    LAeq = 10*np.log10(np.average(np.power(10,np.divide(NPSLAeqvals,10)))) # LAeq calc\n",
    "    df = {'Date / Time':[start_dt],'L$_{eq}$ (dBA)':LAeq} # table formatting\n",
    "    table1 = pd.DataFrame(df).round(1) \n",
    "    ax1.clear() # clears the plot (axis level)\n",
    "    ax1.table(cellText=table1.values, colLabels=table1.columns, loc='center',cellLoc='left',colLoc='left',colColours =[\"lightgrey\"]*2,bbox=[0,0,0.5,1.1])\n",
    "    ax1.axis('off')\n",
    "\n",
    "    #plot 2: Spectrogram    \n",
    "    ax2.clear() # clears the plot (axis level)\n",
    "    ax2.imshow(NPS1thirdsplot.T, aspect=\"auto\", origin='lower', extent=[startfloat,endfloat,0,len(Cols)], interpolation=None) # plot spectrogram\n",
    "    ax2.yaxis.set(ticks=tickloc) # setting tick locaiton\n",
    "    ax2.set_yticklabels(Cols, fontsize=6) # setting y tick labels\n",
    "    ax2.set_xlabel('Time') # x label\n",
    "    ax2.set_ylabel('1/3 Octave band center frequency') # y label\n",
    "\n",
    "    #plot 3: Time History  \n",
    "    ax3.clear() # clears the plot (axis level)\n",
    "    ax3.scatter(NPS1rawplot.index,NPS1rawplot['LAeq'],c='black',marker='.',s=3)\n",
    "    ax3.set_xlabel('Time') # x label\n",
    "    ax3.set_ylabel('L$_{EQ}$ dBA') # y label\n",
    "    myFmt = DateFormatter('%H:%M') # formatter for x axis datetime (##:##)\n",
    "    minutes = MinuteLocator(interval = 5) # setting x axis formatting / interval\n",
    "    ax3.xaxis.set_major_locator(minutes) \n",
    "    ax3.xaxis.set_major_formatter(myFmt)\n",
    "    fig.autofmt_xdate()\n",
    "    fig.show()\n",
    "\n",
    "box_layout = widgets.Layout(display='inline-flex',flex_flow='row',align_items='stretch',margin='0px 0px 10px 140px')\n",
    "prev = widgets.Button(description=\"Previous hour\")\n",
    "next = widgets.Button(description=\"Next hour\")\n",
    "Prec = widgets.Checkbox(value=False,description='Filter precipitation',disabled=False)\n",
    "Wind = widgets.Checkbox(value=False,description='Filter wind speeds above 11mph',disabled=False)\n",
    "ui = widgets.HBox([prev,next,widgets.VBox([Prec,Wind])],layout=box_layout)\n",
    "out = widgets.Output()\n",
    "display(ui, out)\n",
    "\n",
    "update(pd.Timedelta(hours=0), Prec.value, Wind.value)\n",
    "prev.on_click(prevf)\n",
    "next.on_click(nextf)\n",
    "Prec.observe(changef,names='value')\n",
    "Wind.observe(changef,names='value')"
   ]
  }
 ],
 "metadata": {
  "interpreter": {
   "hash": "feae46882c3f6e9cb2b11d0ebb832d46734da437f01b6d576771e43ac1286d35"
  },
  "kernelspec": {
   "display_name": "Python 3.8.8 64-bit ('webs': venv)",
   "language": "python",
   "name": "python3"
  },
  "language_info": {
   "codemirror_mode": {
    "name": "ipython",
    "version": 3
   },
   "file_extension": ".py",
   "mimetype": "text/x-python",
   "name": "python",
   "nbconvert_exporter": "python",
   "pygments_lexer": "ipython3",
   "version": "3.8.8"
  },
  "orig_nbformat": 4
 },
 "nbformat": 4,
 "nbformat_minor": 2
}
